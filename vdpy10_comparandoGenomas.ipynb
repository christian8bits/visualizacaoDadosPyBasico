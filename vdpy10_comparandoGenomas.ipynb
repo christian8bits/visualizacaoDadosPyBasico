{
  "nbformat": 4,
  "nbformat_minor": 0,
  "metadata": {
    "colab": {
      "name": "vdpy10_comparandoGenomas.ipynb",
      "provenance": [],
      "collapsed_sections": [],
      "authorship_tag": "ABX9TyNRqejsNjl2iMyfv2nWFJTK",
      "include_colab_link": true
    },
    "kernelspec": {
      "name": "python3",
      "display_name": "Python 3"
    },
    "language_info": {
      "name": "python"
    }
  },
  "cells": [
    {
      "cell_type": "markdown",
      "metadata": {
        "id": "view-in-github",
        "colab_type": "text"
      },
      "source": [
        "<a href=\"https://colab.research.google.com/github/christian8bits/visualizacaoDadosPyBasico/blob/main/vdpy10_comparandoGenomas.ipynb\" target=\"_parent\"><img src=\"https://colab.research.google.com/assets/colab-badge.svg\" alt=\"Open In Colab\"/></a>"
      ]
    },
    {
      "cell_type": "code",
      "execution_count": 5,
      "metadata": {
        "colab": {
          "base_uri": "https://localhost:8080/"
        },
        "id": "eU6QOYlKFZcW",
        "outputId": "739a4e86-984c-4c79-ca3a-80ff6deaf371"
      },
      "outputs": [
        {
          "output_type": "stream",
          "name": "stdout",
          "text": [
            "Drive already mounted at /content/drive; to attempt to forcibly remount, call drive.mount(\"/content/drive\", force_remount=True).\n"
          ]
        }
      ],
      "source": [
        "# SE ESTIVER USANDO O GOOGLE COLAB \n",
        "# ler arquivo do google drive\n",
        "# ira pedir permissão\n",
        "from google.colab import drive\n",
        "drive.mount('/content/drive')"
      ]
    },
    {
      "cell_type": "markdown",
      "source": [
        ""
      ],
      "metadata": {
        "id": "9hrNA-NQLi3r"
      }
    },
    {
      "cell_type": "code",
      "source": [
        "\n",
        "# Comparando genoma de uma bacteria com um humano\n",
        "\n",
        "# Gerar referencia visual do genoma de bacteria\n",
        "#descomentar/comentar entrada e saida  \n",
        "#entrada = open(\"/content/drive/MyDrive/Colab Notebooks/dados/bacteria.fasta\").read()\n",
        "#saida = open(\"/content/drive/MyDrive/Colab Notebooks/bacteria.html\", \"w\")\n",
        "\n",
        "# Gerar referencia visual do genoma humano\n",
        "# descomentar/comentar entrada e saida \n",
        "entrada = open(\"/content/drive/MyDrive/Colab Notebooks/dados/human.fasta\").read()\n",
        "saida = open(\"/content/drive/MyDrive/Colab Notebooks/human.html\", \"w\")\n",
        "\n",
        "cont = {}\n",
        "\n",
        "# Combinar em um dicionario (como chave) as possiveis combinações\n",
        "# Deixar como conteudo da chave 0\n",
        "for i in ['A', 'T', 'C', 'G']:\n",
        "  for j in ['A', 'T', 'C', 'G']:\n",
        "    cont[i+j] = 0\n",
        "\n",
        "print(cont)\n",
        "\n",
        "entrada = entrada.replace(\"\\n\",\"\")\n",
        "\n",
        "\n",
        "# k vai percorrer de 0 ate o tamanho do arquivo (quantidade de caracteres)\n",
        "# agora cada chave vai contabilizar quantas ocorrencias da combinação\n",
        "for k in range(len(entrada)-1):\n",
        "  cont[entrada[k]+entrada[k+1]] += 1\n",
        "\n",
        "print(cont)\n",
        "\n",
        "\n",
        "i = 1\n",
        "for k in cont:\n",
        "    transparencia = cont[k]/max(cont.values())\n",
        "    saida.write(\"<div style='width:100px; border:1px solid #111; color:#fff; height:100px; float:left; background-color:rgba(0,0,0,\"+str(transparencia)+\"')>\"+k+\"</div>\")\n",
        "\n",
        "    if i%4 == 0:\n",
        "      saida.write(\"<div style='clear:both'></div>\")\n",
        "    i+=1\n",
        "\n",
        "saida.close()\n",
        "\n",
        "\n",
        "\n",
        "\n"
      ],
      "metadata": {
        "colab": {
          "base_uri": "https://localhost:8080/"
        },
        "id": "c3pjnignGe94",
        "outputId": "9d679748-c2f1-4b0f-948b-8967a919ddec"
      },
      "execution_count": 33,
      "outputs": [
        {
          "output_type": "stream",
          "name": "stdout",
          "text": [
            "{'AA': 0, 'AT': 0, 'AC': 0, 'AG': 0, 'TA': 0, 'TT': 0, 'TC': 0, 'TG': 0, 'CA': 0, 'CT': 0, 'CC': 0, 'CG': 0, 'GA': 0, 'GT': 0, 'GC': 0, 'GG': 0}\n",
            "{'AA': 116, 'AT': 95, 'AC': 97, 'AG': 113, 'TA': 85, 'TT': 113, 'TC': 109, 'TG': 111, 'CA': 87, 'CT': 105, 'CC': 184, 'CG': 170, 'GA': 134, 'GT': 105, 'GC': 155, 'GG': 184}\n"
          ]
        }
      ]
    }
  ]
}