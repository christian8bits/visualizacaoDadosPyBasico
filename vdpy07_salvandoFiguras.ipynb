{
  "nbformat": 4,
  "nbformat_minor": 0,
  "metadata": {
    "colab": {
      "name": "vdpy07_salvandoFiguras.ipynb",
      "provenance": [],
      "authorship_tag": "ABX9TyOl10GRbNXYY1FfF+d9SkJu",
      "include_colab_link": true
    },
    "kernelspec": {
      "name": "python3",
      "display_name": "Python 3"
    },
    "language_info": {
      "name": "python"
    }
  },
  "cells": [
    {
      "cell_type": "markdown",
      "metadata": {
        "id": "view-in-github",
        "colab_type": "text"
      },
      "source": [
        "<a href=\"https://colab.research.google.com/github/christian8bits/visualizacaoDadosPyBasico/blob/main/vdpy07_salvandoFiguras.ipynb\" target=\"_parent\"><img src=\"https://colab.research.google.com/assets/colab-badge.svg\" alt=\"Open In Colab\"/></a>"
      ]
    },
    {
      "cell_type": "code",
      "execution_count": 1,
      "metadata": {
        "colab": {
          "base_uri": "https://localhost:8080/",
          "height": 295
        },
        "id": "4s6s9hVa7mgE",
        "outputId": "c108cb99-16f4-4a74-9b0b-5d1adf95581e"
      },
      "outputs": [
        {
          "output_type": "display_data",
          "data": {
            "image/png": "[encoded data removed]",
            "text/plain": [
              "<Figure size 432x288 with 1 Axes>"
            ]
          },
          "metadata": {
            "needs_background": "light"
          }
        }
      ],
      "source": [
        "import matplotlib.pyplot as plt\n",
        "\n",
        "x = [1, 3, 5, 7, 9]\n",
        "y = [2, 3, 7, 1, 0]\n",
        "dimensao = [200, 20, 400, 3000, 100]\n",
        "\n",
        "titulo = \"Scatterplot: Gráfico de dispersão\"\n",
        "eixox = \"Eixo X\"\n",
        "eixoy = \"Eixo Y\"\n",
        "\n",
        "plt.title(titulo)\n",
        "plt.xlabel(eixox)\n",
        "plt.ylabel(eixoy)\n",
        "\n",
        "plt.plot(x, y, color = '#000000', linestyle='--')\n",
        "plt.scatter(x, y, label = \"Meus pontos\", color=\"k\", marker=\".\", s=dimensao)\n",
        "plt.legend()\n",
        "#plt.show()\n",
        "#metodo para salvar a figura localmente\n",
        "plt.savefig(\"figura.png\")\n",
        "\n",
        "#pdf salva em qualidade vetorizada\n",
        "#plt.savefig(\"figura.pdf\")\n",
        "\n",
        "# salvar a imagem com qualidade maior\n",
        "#plt.savefig(\"figura2.png\", dpi=300)\n",
        "\n",
        "\n",
        "\n",
        "\n",
        "\n",
        "\n",
        "texto ='''\n",
        "color: cor (ver exemplos abaixo)\n",
        "label: rótulo\n",
        "linestyle: estilo de linha (ver exemplos abaixo)\n",
        "linewidth: largura da linha\n",
        "marker: marcador (ver exemplos abaixo)\n",
        "\n",
        "CORES (color)\n",
        "'b' blue\n",
        "'g' green\n",
        "'r' red\n",
        "'c' cyan\n",
        "'m' magenta\n",
        "'y' yellow\n",
        "'k' black\n",
        "'w' white\n",
        "\n",
        "Marcadores (marker)\n",
        "'.' point marker\n",
        "',' pixel marker\n",
        "'o' circle marker\n",
        "'v' triangle_down marker\n",
        "'^' triangle_up marker\n",
        "'<' triangle_left marker\n",
        "'>' triangle_right marker\n",
        "'1' tri_down marker\n",
        "'2' tri_up marker\n",
        "'3' tri_left marker\n",
        "'4' tri_right marker\n",
        "'s' square marker\n",
        "'p' pentagon marker\n",
        "'*' star marker\n",
        "'h' hexagon1 marker\n",
        "'H' hexagon2 marker\n",
        "'+' plus marker\n",
        "'x' x marker\n",
        "'D' diamond marker\n",
        "'d' thin_diamond marker\n",
        "'|' vline marker\n",
        "'_' hline marker\n",
        "\n",
        "Tipos de linha (linestyle)\n",
        "'-' solid line style\n",
        "'--' dashed line style\n",
        "'-.' dash-dot line style\n",
        "':' dotted line style\n",
        "\n",
        "Fonte: https://matplotlib.org/api/_as_gen/matplotlib.pyplot.plot.html\n",
        "'''"
      ]
    }
  ]
}