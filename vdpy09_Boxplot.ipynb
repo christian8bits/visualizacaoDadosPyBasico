{
  "nbformat": 4,
  "nbformat_minor": 0,
  "metadata": {
    "colab": {
      "name": "vdpy09_Boxplot.ipynb",
      "provenance": [],
      "collapsed_sections": [],
      "authorship_tag": "ABX9TyMkNUjsFZOgXBVQ47TmGk1+",
      "include_colab_link": true
    },
    "kernelspec": {
      "name": "python3",
      "display_name": "Python 3"
    },
    "language_info": {
      "name": "python"
    }
  },
  "cells": [
    {
      "cell_type": "markdown",
      "metadata": {
        "id": "view-in-github",
        "colab_type": "text"
      },
      "source": [
        "<a href=\"https://colab.research.google.com/github/christian8bits/visualizacaoDadosPyBasico/blob/main/vdpy09_Boxplot.ipynb\" target=\"_parent\"><img src=\"https://colab.research.google.com/assets/colab-badge.svg\" alt=\"Open In Colab\"/></a>"
      ]
    },
    {
      "cell_type": "code",
      "execution_count": 13,
      "metadata": {
        "colab": {
          "base_uri": "https://localhost:8080/",
          "height": 281
        },
        "id": "lix2ZCatBLWC",
        "outputId": "a52bf2f4-e640-4c45-c0cf-a269ecdfa73e"
      },
      "outputs": [
        {
          "output_type": "display_data",
          "data": {
            "image/png": "[encoded data removed]",
            "text/plain": [
              "<Figure size 432x288 with 1 Axes>"
            ]
          },
          "metadata": {
            "needs_background": "light"
          }
        }
      ],
      "source": [
        "# boxplot ou diagrama de caixa\n",
        "import matplotlib.pyplot as plt\n",
        "import random\n",
        "\n",
        "#vetor2 = [5, 6, 4, 8, 12,10, 12, 2]\n",
        "vetor = []\n",
        "\n",
        "#gerar um boxplot com 20 numeros aleatorios de 0 a 50\n",
        "for i in range(20):\n",
        "  numero_aleatorio = random.randint(0, 50)\n",
        "  vetor.append(numero_aleatorio)\n",
        "\n",
        "#plt.boxplot(vetor2)\n",
        "plt.boxplot(vetor)\n",
        "plt.title(\"BOXPLOT\")\n",
        "plt.show()\n"
      ]
    }
  ]
}