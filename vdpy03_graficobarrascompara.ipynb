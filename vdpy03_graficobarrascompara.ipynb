{
  "nbformat": 4,
  "nbformat_minor": 0,
  "metadata": {
    "colab": {
      "name": "vdpy03_graficobarrascompara.ipynb",
      "provenance": [],
      "authorship_tag": "ABX9TyMj5MgCrbWAUi5RRT4OHZ+G",
      "include_colab_link": true
    },
    "kernelspec": {
      "name": "python3",
      "display_name": "Python 3"
    },
    "language_info": {
      "name": "python"
    }
  },
  "cells": [
    {
      "cell_type": "markdown",
      "metadata": {
        "id": "view-in-github",
        "colab_type": "text"
      },
      "source": [
        "<a href=\"https://colab.research.google.com/github/christian8bits/visualizacaoDadosPyBasico/blob/main/vdpy03_graficobarrascompara.ipynb\" target=\"_parent\"><img src=\"https://colab.research.google.com/assets/colab-badge.svg\" alt=\"Open In Colab\"/></a>"
      ]
    },
    {
      "cell_type": "code",
      "metadata": {
        "colab": {
          "base_uri": "https://localhost:8080/",
          "height": 295
        },
        "id": "AnSV-Ojv3YNj",
        "outputId": "40e116bb-3baf-4322-aa44-95c8b8861504"
      },
      "source": [
        "#Grafico de barras comparacao\n",
        "import matplotlib.pyplot as plt\n",
        "\n",
        "x1 = [1, 3, 5, 7, 9]\n",
        "y1 = [2, 3, 7, 4, 1]\n",
        "\n",
        "x2 = [2, 4, 6, 8, 10]\n",
        "y2 = [5, 1, 3, 7, 4]\n",
        "\n",
        "#LEGENDAS\n",
        "plt.title(\"Gráfico de Barras Comparação\")\n",
        "plt.xlabel(\"Barras\")\n",
        "plt.ylabel(\"Altura\")\n",
        "\n",
        "\n",
        "\n",
        "plt.bar(x1, y1, label = \"Grupo 1\")\n",
        "plt.bar(x2, y2, label = \"Grupo 2\")\n",
        "plt.legend()\n",
        "\n",
        "\n",
        "plt.show()\n",
        "\n",
        "\n"
      ],
      "execution_count": 15,
      "outputs": [
        {
          "output_type": "display_data",
          "data": {
            "image/png": "[encoded data removed]",
            "text/plain": [
              "<Figure size 432x288 with 1 Axes>"
            ]
          },
          "metadata": {
            "tags": [],
            "needs_background": "light"
          }
        }
      ]
    },
    {
      "cell_type": "code",
      "metadata": {
        "id": "9k0XxhEe7dBE"
      },
      "source": [
        ""
      ],
      "execution_count": null,
      "outputs": []
    }
  ]
}