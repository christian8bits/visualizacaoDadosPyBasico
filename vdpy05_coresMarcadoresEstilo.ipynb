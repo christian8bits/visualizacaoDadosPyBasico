{
  "nbformat": 4,
  "nbformat_minor": 0,
  "metadata": {
    "colab": {
      "name": "vdpy05_coresMarcadoresEstilo.ipynb",
      "provenance": [],
      "authorship_tag": "ABX9TyNk+QaxhK0HKBUp7YS344Kl"
    },
    "kernelspec": {
      "name": "python3",
      "display_name": "Python 3"
    },
    "language_info": {
      "name": "python"
    }
  },
  "cells": [
    {
      "cell_type": "code",
      "execution_count": 2,
      "metadata": {
        "id": "s9Bm4Xtl_0f6",
        "colab": {
          "base_uri": "https://localhost:8080/",
          "height": 295
        },
        "outputId": "8e797ea3-6a8b-476f-c76f-14498c15cad9"
      },
      "outputs": [
        {
          "output_type": "display_data",
          "data": {
            "image/png": "[encoded data removed]",
            "text/plain": [
              "<Figure size 432x288 with 1 Axes>"
            ]
          },
          "metadata": {
            "needs_background": "light"
          }
        }
      ],
      "source": [
        "import matplotlib.pyplot as plt\n",
        "\n",
        "x = [1, 3, 5, 7, 9]\n",
        "y = [2, 3, 7, 1, 0]\n",
        "\n",
        "titulo = \"Scatterplot: Gráfico de dispersão\"\n",
        "eixox = \"Eixo X\"\n",
        "eixoy = \"Eixo Y\"\n",
        "\n",
        "plt.title(titulo)\n",
        "plt.xlabel(eixox)\n",
        "plt.ylabel(eixoy)\n",
        "\n",
        "plt.plot(x, y, color = 'k', linestyle=':')\n",
        "plt.scatter(x, y, label = \"Meus pontos\", color=\"g\", marker=\".\", s=200)\n",
        "plt.legend()\n",
        "plt.show()\n",
        "\n",
        "doc='''\n",
        "color: cor (ver exemplos abaixo)\n",
        "label: rótulo\n",
        "linestyle: estilo de linha (ver exemplos abaixo)\n",
        "linewidth: largura da linha\n",
        "marker: marcador (ver exemplos abaixo)\n",
        "\n",
        "CORES (color)\n",
        "'b' blue\n",
        "'g' green\n",
        "'r' red\n",
        "'c' cyan\n",
        "'m' magenta\n",
        "'y' yellow\n",
        "'k' black\n",
        "'w' white\n",
        "\n",
        "Marcadores (marker)\n",
        "'.' point marker\n",
        "',' pixel marker\n",
        "'o' circle marker\n",
        "'v' triangle_down marker\n",
        "'^' triangle_up marker\n",
        "'<' triangle_left marker\n",
        "'>' triangle_right marker\n",
        "'1' tri_down marker\n",
        "'2' tri_up marker\n",
        "'3' tri_left marker\n",
        "'4' tri_right marker\n",
        "'s' square marker\n",
        "'p' pentagon marker\n",
        "'*' star marker\n",
        "'h' hexagon1 marker\n",
        "'H' hexagon2 marker\n",
        "'+' plus marker\n",
        "'x' x marker\n",
        "'D' diamond marker\n",
        "'d' thin_diamond marker\n",
        "'|' vline marker\n",
        "'_' hline marker\n",
        "\n",
        "Tipos de linha (linestyle)\n",
        "'-' solid line style\n",
        "'--' dashed line style\n",
        "'-.' dash-dot line style\n",
        "':' dotted line style\n",
        "\n",
        "Fonte: https://matplotlib.org/api/_as_gen/matplotlib.pyplot.plot.html\n",
        "'''"
      ]
    }
  ]
}