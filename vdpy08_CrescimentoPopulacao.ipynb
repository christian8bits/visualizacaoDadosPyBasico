{
  "nbformat": 4,
  "nbformat_minor": 0,
  "metadata": {
    "colab": {
      "name": "vdpy08_CrescimentoPopulacao.ipynb",
      "provenance": [],
      "authorship_tag": "ABX9TyMQ4O0ugBS4KozmKCyUWFMH",
      "include_colab_link": true
    },
    "kernelspec": {
      "name": "python3",
      "display_name": "Python 3"
    },
    "language_info": {
      "name": "python"
    }
  },
  "cells": [
    {
      "cell_type": "markdown",
      "metadata": {
        "id": "view-in-github",
        "colab_type": "text"
      },
      "source": [
        "<a href=\"https://colab.research.google.com/github/christian8bits/visualizacaoDadosPyBasico/blob/main/vdpy08_CrescimentoPopulacao.ipynb\" target=\"_parent\"><img src=\"https://colab.research.google.com/assets/colab-badge.svg\" alt=\"Open In Colab\"/></a>"
      ]
    },
    {
      "cell_type": "code",
      "execution_count": 1,
      "metadata": {
        "colab": {
          "base_uri": "https://localhost:8080/"
        },
        "id": "N7wcHtO8_VTY",
        "outputId": "5afc3e14-7366-495b-9a28-e5b2ba83edfb"
      },
      "outputs": [
        {
          "output_type": "stream",
          "name": "stdout",
          "text": [
            "Mounted at /content/drive\n"
          ]
        }
      ],
      "source": [
        "# ler arquivo do google drive\n",
        "# ira pedir permissão\n",
        "from google.colab import drive\n",
        "drive.mount('/content/drive')"
      ]
    },
    {
      "cell_type": "code",
      "source": [
        "# Listar conteudo\n",
        "!ls \"/content/drive/My Drive/Programação/Python\""
      ],
      "metadata": {
        "colab": {
          "base_uri": "https://localhost:8080/"
        },
        "id": "bI5QtqJdAq1M",
        "outputId": "890fab60-bdeb-4a84-9ddd-6a8c92b5263f"
      },
      "execution_count": 2,
      "outputs": [
        {
          "output_type": "stream",
          "name": "stdout",
          "text": [
            "'artigos python'   populacao_brasileira.csv\n",
            " cursos\t\t  'Python3 aprendacomputaocompython3k.pdf'\n",
            " Django\t\t  'python-objetos caelum.pdf'\n",
            " FMasanori\n"
          ]
        }
      ]
    },
    {
      "cell_type": "code",
      "source": [
        "# crescimento da população Brasileira 1980-2016\n",
        "# Data Sus\n",
        "import matplotlib.pyplot as plt\n",
        "\n",
        "dados = open(\"/content/drive/My Drive/Programação/Python/populacao_brasileira.csv\").readlines()\n",
        "\n",
        "x = []\n",
        "y = []\n",
        "\n",
        "for i in range(len(dados)):\n",
        "  if i != 0:\n",
        "    linha = dados[i].split(\";\")\n",
        "    x.append(int(linha[0]))\n",
        "    y.append(int(linha[1]))\n",
        "\n",
        "plt.plot(x, y, color ='k', linestyle=\"--\")\n",
        "plt.bar(x, y, color = \"#e4e4e4\")\n",
        "plt.title(\"crescimento População Brasileira 1980-2016\")\n",
        "plt.xlabel(\"Ano\")\n",
        "plt.ylabel(\"Crescimento x 100 Milhões\")\n",
        "plt.show()"
      ],
      "metadata": {
        "colab": {
          "base_uri": "https://localhost:8080/",
          "height": 295
        },
        "id": "rqEn9gwcBJVJ",
        "outputId": "5c54b057-fbd2-4d90-921b-1493b72ac8fd"
      },
      "execution_count": 6,
      "outputs": [
        {
          "output_type": "display_data",
          "data": {
            "image/png": "[encoded data removed]",
            "text/plain": [
              "<Figure size 432x288 with 1 Axes>"
            ]
          },
          "metadata": {
            "needs_background": "light"
          }
        }
      ]
    },
    {
      "cell_type": "markdown",
      "source": [
        ""
      ],
      "metadata": {
        "id": "NxRQE3mvBCPZ"
      }
    }
  ]
}